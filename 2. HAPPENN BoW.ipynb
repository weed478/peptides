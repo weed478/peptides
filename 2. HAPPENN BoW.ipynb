{
 "cells": [
  {
   "cell_type": "markdown",
   "metadata": {},
   "source": [
    "# HAPPENN - Bag of words"
   ]
  },
  {
   "cell_type": "markdown",
   "metadata": {},
   "source": [
    "## Load data"
   ]
  },
  {
   "cell_type": "code",
   "execution_count": 1,
   "metadata": {},
   "outputs": [],
   "source": [
    "def load_sequences(file_path):\n",
    "    sequences = []\n",
    "    labels = []\n",
    "    with open(file_path, 'r') as file:\n",
    "        for line in file:\n",
    "            if line.startswith('>'):\n",
    "                label = line.strip()[1:].split('|')[7]\n",
    "                if label == 'hemolytic':\n",
    "                    labels.append(1)\n",
    "                elif label == 'non-hemolytic':\n",
    "                    labels.append(0)\n",
    "                else:\n",
    "                    raise ValueError(f\"Unknown label: {label}\")\n",
    "            else:\n",
    "                sequences.append(line.strip())\n",
    "    return sequences, labels\n",
    "\n",
    "sequences, labels = load_sequences('data/HAPPENN_dataset.fasta')"
   ]
  },
  {
   "cell_type": "code",
   "execution_count": 2,
   "metadata": {},
   "outputs": [],
   "source": [
    "from sklearn.model_selection import train_test_split\n",
    "\n",
    "train_sequences, val_sequences, train_labels, val_labels = train_test_split(sequences, labels, test_size=0.2, random_state=42, stratify=labels)"
   ]
  },
  {
   "cell_type": "markdown",
   "metadata": {},
   "source": [
    "## Bag of words"
   ]
  },
  {
   "cell_type": "code",
   "execution_count": 3,
   "metadata": {},
   "outputs": [
    {
     "data": {
      "text/plain": [
       "((2990, 20), (748, 20))"
      ]
     },
     "execution_count": 3,
     "metadata": {},
     "output_type": "execute_result"
    }
   ],
   "source": [
    "from sklearn.feature_extraction.text import CountVectorizer\n",
    "\n",
    "vectorizer = CountVectorizer(analyzer='char', ngram_range=(1, 1))\n",
    "X_train = vectorizer.fit_transform(train_sequences).toarray()\n",
    "X_val = vectorizer.transform(val_sequences).toarray()\n",
    "X_train.shape, X_val.shape"
   ]
  },
  {
   "cell_type": "markdown",
   "metadata": {},
   "source": [
    "## Train model"
   ]
  },
  {
   "cell_type": "code",
   "execution_count": 4,
   "metadata": {},
   "outputs": [
    {
     "name": "stdout",
     "output_type": "stream",
     "text": [
      "              precision    recall  f1-score   support\n",
      "\n",
      "           0       0.83      0.86      0.85       439\n",
      "           1       0.79      0.75      0.77       309\n",
      "\n",
      "    accuracy                           0.82       748\n",
      "   macro avg       0.81      0.81      0.81       748\n",
      "weighted avg       0.82      0.82      0.82       748\n",
      "\n"
     ]
    }
   ],
   "source": [
    "from sklearn.ensemble import RandomForestClassifier\n",
    "from sklearn.metrics import classification_report\n",
    "\n",
    "model = RandomForestClassifier(n_estimators=100, random_state=42)\n",
    "model.fit(X_train, train_labels)\n",
    "y_pred = model.predict(X_val)\n",
    "print(classification_report(val_labels, y_pred))"
   ]
  },
  {
   "cell_type": "markdown",
   "metadata": {},
   "source": [
    "This is a good baseline.\n",
    "\n",
    "SOTA in the paper is <86% accuracy."
   ]
  }
 ],
 "metadata": {
  "kernelspec": {
   "display_name": "um-proj",
   "language": "python",
   "name": "python3"
  },
  "language_info": {
   "codemirror_mode": {
    "name": "ipython",
    "version": 3
   },
   "file_extension": ".py",
   "mimetype": "text/x-python",
   "name": "python",
   "nbconvert_exporter": "python",
   "pygments_lexer": "ipython3",
   "version": "3.11.10"
  }
 },
 "nbformat": 4,
 "nbformat_minor": 2
}
