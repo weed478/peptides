{
 "cells": [
  {
   "cell_type": "markdown",
   "metadata": {},
   "source": [
    "# HemoPI - Bag of words"
   ]
  },
  {
   "cell_type": "markdown",
   "metadata": {},
   "source": [
    "## Load data"
   ]
  },
  {
   "cell_type": "code",
   "execution_count": 1,
   "metadata": {},
   "outputs": [],
   "source": [
    "def load_sequences(file_path):\n",
    "    sequences = []\n",
    "    with open(file_path, 'r') as file:\n",
    "        for line in file:\n",
    "            if not line.startswith('>'):\n",
    "                sequences.append(line.strip())\n",
    "    return sequences\n",
    "\n",
    "train_pos_sequences = load_sequences('data/hemopi/train/pos.fa')\n",
    "train_neg_sequences = load_sequences('data/hemopi/train/neg.fa')\n",
    "\n",
    "val_pos_sequences = load_sequences('data/hemopi/val/pos.fa')\n",
    "val_neg_sequences = load_sequences('data/hemopi/val/neg.fa')\n",
    "\n",
    "train_sequences = train_pos_sequences + train_neg_sequences\n",
    "train_labels = [1] * len(train_pos_sequences) + [0] * len(train_neg_sequences)\n",
    "\n",
    "val_sequences = val_pos_sequences + val_neg_sequences\n",
    "val_labels = [1] * len(val_pos_sequences) + [0] * len(val_neg_sequences)"
   ]
  },
  {
   "cell_type": "code",
   "execution_count": 2,
   "metadata": {},
   "outputs": [
    {
     "data": {
      "text/plain": [
       "['GIFGKILGVGKKVLCGLSGVC',\n",
       " 'KWKSFLKTFKSLKKTVLHTLLKLISS',\n",
       " 'KFFKFFKFF',\n",
       " 'LLKKLLKKLLKKLLKK']"
      ]
     },
     "execution_count": 2,
     "metadata": {},
     "output_type": "execute_result"
    }
   ],
   "source": [
    "train_sequences[:4]"
   ]
  },
  {
   "cell_type": "code",
   "execution_count": 3,
   "metadata": {},
   "outputs": [
    {
     "data": {
      "text/plain": [
       "[1, 1, 1, 1]"
      ]
     },
     "execution_count": 3,
     "metadata": {},
     "output_type": "execute_result"
    }
   ],
   "source": [
    "train_labels[:4]"
   ]
  },
  {
   "cell_type": "markdown",
   "metadata": {},
   "source": [
    "## Bag of words"
   ]
  },
  {
   "cell_type": "code",
   "execution_count": 4,
   "metadata": {},
   "outputs": [],
   "source": [
    "from sklearn.feature_extraction.text import CountVectorizer\n",
    "\n",
    "vectorizer = CountVectorizer(analyzer='char', ngram_range=(1, 1))\n",
    "X_train = vectorizer.fit_transform(train_sequences).toarray()\n",
    "X_val = vectorizer.transform(val_sequences).toarray()"
   ]
  },
  {
   "cell_type": "code",
   "execution_count": 5,
   "metadata": {},
   "outputs": [
    {
     "data": {
      "text/plain": [
       "((884, 20), (220, 20))"
      ]
     },
     "execution_count": 5,
     "metadata": {},
     "output_type": "execute_result"
    }
   ],
   "source": [
    "X_train.shape, X_val.shape"
   ]
  },
  {
   "cell_type": "code",
   "execution_count": 6,
   "metadata": {},
   "outputs": [
    {
     "data": {
      "text/plain": [
       "array(['a', 'c', 'd', 'e', 'f', 'g', 'h', 'i', 'k', 'l', 'm', 'n', 'p',\n",
       "       'q', 'r', 's', 't', 'v', 'w', 'y'], dtype=object)"
      ]
     },
     "execution_count": 6,
     "metadata": {},
     "output_type": "execute_result"
    }
   ],
   "source": [
    "vectorizer.get_feature_names_out()"
   ]
  },
  {
   "cell_type": "code",
   "execution_count": 7,
   "metadata": {},
   "outputs": [
    {
     "data": {
      "text/plain": [
       "array([[0, 2, 0, 0, 1, 6, 0, 2, 3, 3, 0, 0, 0, 0, 0, 1, 0, 3, 0, 0],\n",
       "       [0, 0, 0, 0, 2, 0, 1, 1, 7, 6, 0, 0, 0, 0, 0, 4, 3, 1, 1, 0],\n",
       "       [0, 0, 0, 0, 6, 0, 0, 0, 3, 0, 0, 0, 0, 0, 0, 0, 0, 0, 0, 0],\n",
       "       [0, 0, 0, 0, 0, 0, 0, 0, 8, 8, 0, 0, 0, 0, 0, 0, 0, 0, 0, 0]])"
      ]
     },
     "execution_count": 7,
     "metadata": {},
     "output_type": "execute_result"
    }
   ],
   "source": [
    "X_train[0:4]"
   ]
  },
  {
   "cell_type": "markdown",
   "metadata": {},
   "source": [
    "## Train model"
   ]
  },
  {
   "cell_type": "code",
   "execution_count": 8,
   "metadata": {},
   "outputs": [
    {
     "name": "stdout",
     "output_type": "stream",
     "text": [
      "              precision    recall  f1-score   support\n",
      "\n",
      "           0       0.96      1.00      0.98       110\n",
      "           1       1.00      0.95      0.98       110\n",
      "\n",
      "    accuracy                           0.98       220\n",
      "   macro avg       0.98      0.98      0.98       220\n",
      "weighted avg       0.98      0.98      0.98       220\n",
      "\n"
     ]
    },
    {
     "name": "stderr",
     "output_type": "stream",
     "text": [
      "/Users/carbon/mambaforge/envs/um-proj/lib/python3.11/site-packages/sklearn/neural_network/_multilayer_perceptron.py:690: ConvergenceWarning: Stochastic Optimizer: Maximum iterations (100) reached and the optimization hasn't converged yet.\n",
      "  warnings.warn(\n"
     ]
    }
   ],
   "source": [
    "from sklearn.neural_network import MLPClassifier\n",
    "from sklearn.metrics import classification_report\n",
    "\n",
    "clf = MLPClassifier(hidden_layer_sizes=(100,), max_iter=100, random_state=42)\n",
    "clf.fit(X_train, train_labels)\n",
    "\n",
    "y_pred = clf.predict(X_val)\n",
    "\n",
    "print(classification_report(val_labels, y_pred))"
   ]
  },
  {
   "cell_type": "markdown",
   "metadata": {},
   "source": [
    "This dataset is too easy to experiment with more advanced methods."
   ]
  }
 ],
 "metadata": {
  "kernelspec": {
   "display_name": "agh-um-proj",
   "language": "python",
   "name": "python3"
  },
  "language_info": {
   "codemirror_mode": {
    "name": "ipython",
    "version": 3
   },
   "file_extension": ".py",
   "mimetype": "text/x-python",
   "name": "python",
   "nbconvert_exporter": "python",
   "pygments_lexer": "ipython3",
   "version": "3.11.10"
  }
 },
 "nbformat": 4,
 "nbformat_minor": 2
}
