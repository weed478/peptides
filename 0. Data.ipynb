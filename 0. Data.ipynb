{
 "cells": [
  {
   "cell_type": "markdown",
   "metadata": {},
   "source": [
    "# Used datasets\n",
    "\n",
    "1. [HemoPI](https://webs.iiitd.edu.in/raghava/hemopi/datasets.php)\n",
    "2. [HAPPENN](https://research.timmons.eu/happenn)\n",
    "3. [LRGB](https://scikit-fingerprints.github.io/scikit-fingerprints/modules/datasets/lrgb.html)"
   ]
  },
  {
   "cell_type": "code",
   "execution_count": 1,
   "metadata": {},
   "outputs": [],
   "source": [
    "!mkdir -p data"
   ]
  },
  {
   "cell_type": "code",
   "execution_count": 2,
   "metadata": {},
   "outputs": [
    {
     "name": "stdout",
     "output_type": "stream",
     "text": [
      "--2024-10-30 20:25:14--  https://research.timmons.eu/static/HAPPENN_dataset.fasta\n",
      "Resolving research.timmons.eu (research.timmons.eu)... 35.173.69.207\n",
      "Connecting to research.timmons.eu (research.timmons.eu)|35.173.69.207|:443... connected.\n",
      "HTTP request sent, awaiting response... 200 OK\n",
      "Length: 350587 (342K)\n",
      "Saving to: ‘data/HAPPENN_dataset.fasta’\n",
      "\n",
      "data/HAPPENN_datase 100%[===================>] 342,37K  1,04MB/s    in 0,3s    \n",
      "\n",
      "2024-10-30 20:25:15 (1,04 MB/s) - ‘data/HAPPENN_dataset.fasta’ saved [350587/350587]\n",
      "\n"
     ]
    }
   ],
   "source": [
    "!wget https://research.timmons.eu/static/HAPPENN_dataset.fasta -O data/HAPPENN_dataset.fasta"
   ]
  },
  {
   "cell_type": "code",
   "execution_count": 3,
   "metadata": {},
   "outputs": [
    {
     "name": "stdout",
     "output_type": "stream",
     "text": [
      "--2024-10-30 20:25:19--  https://webs.iiitd.edu.in/raghava/hemopi/data/HemoPI_1_dataset/main/pos.fa\n",
      "Resolving webs.iiitd.edu.in (webs.iiitd.edu.in)... 103.25.231.42\n",
      "Connecting to webs.iiitd.edu.in (webs.iiitd.edu.in)|103.25.231.42|:443... connected.\n",
      "HTTP request sent, awaiting response... 200 OK\n",
      "Length: 16356 (16K)\n",
      "Saving to: ‘data/hemopi/train/pos.fa’\n",
      "\n",
      "data/hemopi/train/p 100%[===================>]  15,97K  --.-KB/s    in 0,08s   \n",
      "\n",
      "2024-10-30 20:25:20 (210 KB/s) - ‘data/hemopi/train/pos.fa’ saved [16356/16356]\n",
      "\n",
      "--2024-10-30 20:25:20--  https://webs.iiitd.edu.in/raghava/hemopi/data/HemoPI_1_dataset/main/neg.fa\n",
      "Resolving webs.iiitd.edu.in (webs.iiitd.edu.in)... 103.25.231.42\n",
      "Connecting to webs.iiitd.edu.in (webs.iiitd.edu.in)|103.25.231.42|:443... connected.\n",
      "HTTP request sent, awaiting response... 200 OK\n",
      "Length: 16627 (16K)\n",
      "Saving to: ‘data/hemopi/train/neg.fa’\n",
      "\n",
      "data/hemopi/train/n 100%[===================>]  16,24K  --.-KB/s    in 0,03s   \n",
      "\n",
      "2024-10-30 20:25:21 (550 KB/s) - ‘data/hemopi/train/neg.fa’ saved [16627/16627]\n",
      "\n",
      "--2024-10-30 20:25:21--  https://webs.iiitd.edu.in/raghava/hemopi/data/HemoPI_1_dataset/validation/pos.fa\n",
      "Resolving webs.iiitd.edu.in (webs.iiitd.edu.in)... 103.25.231.42\n",
      "Connecting to webs.iiitd.edu.in (webs.iiitd.edu.in)|103.25.231.42|:443... connected.\n",
      "HTTP request sent, awaiting response... 200 OK\n",
      "Length: 4037 (3,9K)\n",
      "Saving to: ‘data/hemopi/val/pos.fa’\n",
      "\n",
      "data/hemopi/val/pos 100%[===================>]   3,94K  --.-KB/s    in 0s      \n",
      "\n",
      "2024-10-30 20:25:22 (1,25 GB/s) - ‘data/hemopi/val/pos.fa’ saved [4037/4037]\n",
      "\n",
      "--2024-10-30 20:25:22--  https://webs.iiitd.edu.in/raghava/hemopi/data/HemoPI_1_dataset/validation/neg.fa\n",
      "Resolving webs.iiitd.edu.in (webs.iiitd.edu.in)... 103.25.231.42\n",
      "Connecting to webs.iiitd.edu.in (webs.iiitd.edu.in)|103.25.231.42|:443... connected.\n",
      "HTTP request sent, awaiting response... 200 OK\n",
      "Length: 3918 (3,8K)\n",
      "Saving to: ‘data/hemopi/val/neg.fa’\n",
      "\n",
      "data/hemopi/val/neg 100%[===================>]   3,83K  --.-KB/s    in 0s      \n",
      "\n",
      "2024-10-30 20:25:23 (311 MB/s) - ‘data/hemopi/val/neg.fa’ saved [3918/3918]\n",
      "\n"
     ]
    }
   ],
   "source": [
    "\n",
    "!mkdir -p data/hemopi/{train,val}\n",
    "!wget https://webs.iiitd.edu.in/raghava/hemopi/data/HemoPI_1_dataset/main/pos.fa -O data/hemopi/train/pos.fa\n",
    "!wget https://webs.iiitd.edu.in/raghava/hemopi/data/HemoPI_1_dataset/main/neg.fa -O data/hemopi/train/neg.fa\n",
    "!wget https://webs.iiitd.edu.in/raghava/hemopi/data/HemoPI_1_dataset/validation/pos.fa -O data/hemopi/val/pos.fa\n",
    "!wget https://webs.iiitd.edu.in/raghava/hemopi/data/HemoPI_1_dataset/validation/neg.fa -O data/hemopi/val/neg.fa"
   ]
  }
 ],
 "metadata": {
  "kernelspec": {
   "display_name": "um-proj",
   "language": "python",
   "name": "python3"
  },
  "language_info": {
   "codemirror_mode": {
    "name": "ipython",
    "version": 3
   },
   "file_extension": ".py",
   "mimetype": "text/x-python",
   "name": "python",
   "nbconvert_exporter": "python",
   "pygments_lexer": "ipython3",
   "version": "3.11.10"
  }
 },
 "nbformat": 4,
 "nbformat_minor": 2
}
