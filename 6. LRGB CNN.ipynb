{
 "cells": [
  {
   "cell_type": "markdown",
   "metadata": {},
   "source": [
    "# LRGB - CNN"
   ]
  },
  {
   "cell_type": "markdown",
   "metadata": {},
   "source": [
    "## Load data"
   ]
  },
  {
   "cell_type": "code",
   "execution_count": 44,
   "metadata": {},
   "outputs": [
    {
     "data": {
      "text/html": [
       "<div>\n",
       "<style scoped>\n",
       "    .dataframe tbody tr th:only-of-type {\n",
       "        vertical-align: middle;\n",
       "    }\n",
       "\n",
       "    .dataframe tbody tr th {\n",
       "        vertical-align: top;\n",
       "    }\n",
       "\n",
       "    .dataframe thead th {\n",
       "        text-align: right;\n",
       "    }\n",
       "</style>\n",
       "<table border=\"1\" class=\"dataframe\">\n",
       "  <thead>\n",
       "    <tr style=\"text-align: right;\">\n",
       "      <th></th>\n",
       "      <th>SMILES</th>\n",
       "      <th>aminoseq</th>\n",
       "      <th>antifungal</th>\n",
       "      <th>cell_cell_communication</th>\n",
       "      <th>anticancer</th>\n",
       "      <th>drug_delivery_vehicle</th>\n",
       "      <th>antimicrobial</th>\n",
       "      <th>antiviral</th>\n",
       "      <th>antihypertensive</th>\n",
       "      <th>antibacterial</th>\n",
       "      <th>antiparasitic</th>\n",
       "      <th>toxic</th>\n",
       "    </tr>\n",
       "  </thead>\n",
       "  <tbody>\n",
       "    <tr>\n",
       "      <th>0</th>\n",
       "      <td>CC(C)C[C@H](NC(=O)[C@H](CCCC[NH3+])NC(=O)[C@@H...</td>\n",
       "      <td>VKLkVyPLKVKLyP</td>\n",
       "      <td>0</td>\n",
       "      <td>0</td>\n",
       "      <td>0</td>\n",
       "      <td>0</td>\n",
       "      <td>1</td>\n",
       "      <td>0</td>\n",
       "      <td>0</td>\n",
       "      <td>0</td>\n",
       "      <td>0</td>\n",
       "      <td>1</td>\n",
       "    </tr>\n",
       "    <tr>\n",
       "      <th>1</th>\n",
       "      <td>CC[C@H](C)[C@H](NC(=O)CNC(=O)[C@H](Cc1c[nH]cn1...</td>\n",
       "      <td>DVAHGILNEAYRKVLDQLSAGKHLQSLVARGVGGSLGGGAGDDAEPLS</td>\n",
       "      <td>0</td>\n",
       "      <td>1</td>\n",
       "      <td>0</td>\n",
       "      <td>0</td>\n",
       "      <td>0</td>\n",
       "      <td>0</td>\n",
       "      <td>0</td>\n",
       "      <td>0</td>\n",
       "      <td>0</td>\n",
       "      <td>0</td>\n",
       "    </tr>\n",
       "    <tr>\n",
       "      <th>2</th>\n",
       "      <td>CC[C@H](C)[C@H](NC(=O)[C@H](C)NC(=O)[C@H](CCCN...</td>\n",
       "      <td>FAVGLRAIKRALKKLRRGVRKVAKDL</td>\n",
       "      <td>0</td>\n",
       "      <td>0</td>\n",
       "      <td>1</td>\n",
       "      <td>0</td>\n",
       "      <td>0</td>\n",
       "      <td>0</td>\n",
       "      <td>0</td>\n",
       "      <td>0</td>\n",
       "      <td>0</td>\n",
       "      <td>0</td>\n",
       "    </tr>\n",
       "    <tr>\n",
       "      <th>3</th>\n",
       "      <td>CC[C@H](C)[C@@H]1NC(=O)[C@@H]2CSSC[C@H](NC(=O)...</td>\n",
       "      <td>AVCNLARCQLSCASLGLLGKCIGDKCECVKH</td>\n",
       "      <td>0</td>\n",
       "      <td>0</td>\n",
       "      <td>0</td>\n",
       "      <td>0</td>\n",
       "      <td>0</td>\n",
       "      <td>0</td>\n",
       "      <td>0</td>\n",
       "      <td>0</td>\n",
       "      <td>0</td>\n",
       "      <td>1</td>\n",
       "    </tr>\n",
       "    <tr>\n",
       "      <th>4</th>\n",
       "      <td>CC[C@H](C)[C@H](NC(=O)[C@@H]1CCCN1C(=O)[C@H](C...</td>\n",
       "      <td>GKPRPYSPRPTSHPRPIRV</td>\n",
       "      <td>0</td>\n",
       "      <td>0</td>\n",
       "      <td>0</td>\n",
       "      <td>1</td>\n",
       "      <td>1</td>\n",
       "      <td>1</td>\n",
       "      <td>0</td>\n",
       "      <td>1</td>\n",
       "      <td>0</td>\n",
       "      <td>1</td>\n",
       "    </tr>\n",
       "    <tr>\n",
       "      <th>...</th>\n",
       "      <td>...</td>\n",
       "      <td>...</td>\n",
       "      <td>...</td>\n",
       "      <td>...</td>\n",
       "      <td>...</td>\n",
       "      <td>...</td>\n",
       "      <td>...</td>\n",
       "      <td>...</td>\n",
       "      <td>...</td>\n",
       "      <td>...</td>\n",
       "      <td>...</td>\n",
       "      <td>...</td>\n",
       "    </tr>\n",
       "    <tr>\n",
       "      <th>15530</th>\n",
       "      <td>CC[C@H](C)[C@H](NC(=O)[C@H](CC(C)C)NC(=O)[C@H]...</td>\n",
       "      <td>DKLIGSCVWGAVNYTSNCNAECKRRGYKGGHCGSFANINCWCET</td>\n",
       "      <td>1</td>\n",
       "      <td>0</td>\n",
       "      <td>0</td>\n",
       "      <td>0</td>\n",
       "      <td>1</td>\n",
       "      <td>0</td>\n",
       "      <td>0</td>\n",
       "      <td>0</td>\n",
       "      <td>0</td>\n",
       "      <td>0</td>\n",
       "    </tr>\n",
       "    <tr>\n",
       "      <th>15531</th>\n",
       "      <td>C[C@H](N)C(=O)N[C@@H](Cc1ccccc1)C(=O)N1CCC[C@H...</td>\n",
       "      <td>AFP</td>\n",
       "      <td>0</td>\n",
       "      <td>0</td>\n",
       "      <td>0</td>\n",
       "      <td>0</td>\n",
       "      <td>0</td>\n",
       "      <td>0</td>\n",
       "      <td>1</td>\n",
       "      <td>0</td>\n",
       "      <td>0</td>\n",
       "      <td>0</td>\n",
       "    </tr>\n",
       "    <tr>\n",
       "      <th>15532</th>\n",
       "      <td>CC(C)C[C@H](NC(=O)CNC(=O)[C@H](CCC(N)=O)NC(=O)...</td>\n",
       "      <td>HSDGTFTSELSRLQDSARLQRLLQGLV</td>\n",
       "      <td>0</td>\n",
       "      <td>1</td>\n",
       "      <td>0</td>\n",
       "      <td>0</td>\n",
       "      <td>0</td>\n",
       "      <td>0</td>\n",
       "      <td>0</td>\n",
       "      <td>0</td>\n",
       "      <td>0</td>\n",
       "      <td>0</td>\n",
       "    </tr>\n",
       "    <tr>\n",
       "      <th>15533</th>\n",
       "      <td>CC[C@H](C)[C@H](N)C(=O)N[C@@H](CC(C)C)C(=O)N1C...</td>\n",
       "      <td>ILPFKFPFPFRR</td>\n",
       "      <td>0</td>\n",
       "      <td>0</td>\n",
       "      <td>0</td>\n",
       "      <td>0</td>\n",
       "      <td>1</td>\n",
       "      <td>0</td>\n",
       "      <td>0</td>\n",
       "      <td>0</td>\n",
       "      <td>0</td>\n",
       "      <td>1</td>\n",
       "    </tr>\n",
       "    <tr>\n",
       "      <th>15534</th>\n",
       "      <td>C[C@H](NC(=O)[C@H](CCCNC(N)=[NH2+])NC(=O)[C@@H...</td>\n",
       "      <td>CSTRAENQC</td>\n",
       "      <td>0</td>\n",
       "      <td>0</td>\n",
       "      <td>0</td>\n",
       "      <td>0</td>\n",
       "      <td>1</td>\n",
       "      <td>1</td>\n",
       "      <td>0</td>\n",
       "      <td>0</td>\n",
       "      <td>0</td>\n",
       "      <td>0</td>\n",
       "    </tr>\n",
       "  </tbody>\n",
       "</table>\n",
       "<p>15535 rows × 12 columns</p>\n",
       "</div>"
      ],
      "text/plain": [
       "                                                  SMILES  \\\n",
       "0      CC(C)C[C@H](NC(=O)[C@H](CCCC[NH3+])NC(=O)[C@@H...   \n",
       "1      CC[C@H](C)[C@H](NC(=O)CNC(=O)[C@H](Cc1c[nH]cn1...   \n",
       "2      CC[C@H](C)[C@H](NC(=O)[C@H](C)NC(=O)[C@H](CCCN...   \n",
       "3      CC[C@H](C)[C@@H]1NC(=O)[C@@H]2CSSC[C@H](NC(=O)...   \n",
       "4      CC[C@H](C)[C@H](NC(=O)[C@@H]1CCCN1C(=O)[C@H](C...   \n",
       "...                                                  ...   \n",
       "15530  CC[C@H](C)[C@H](NC(=O)[C@H](CC(C)C)NC(=O)[C@H]...   \n",
       "15531  C[C@H](N)C(=O)N[C@@H](Cc1ccccc1)C(=O)N1CCC[C@H...   \n",
       "15532  CC(C)C[C@H](NC(=O)CNC(=O)[C@H](CCC(N)=O)NC(=O)...   \n",
       "15533  CC[C@H](C)[C@H](N)C(=O)N[C@@H](CC(C)C)C(=O)N1C...   \n",
       "15534  C[C@H](NC(=O)[C@H](CCCNC(N)=[NH2+])NC(=O)[C@@H...   \n",
       "\n",
       "                                               aminoseq  antifungal  \\\n",
       "0                                        VKLkVyPLKVKLyP           0   \n",
       "1      DVAHGILNEAYRKVLDQLSAGKHLQSLVARGVGGSLGGGAGDDAEPLS           0   \n",
       "2                            FAVGLRAIKRALKKLRRGVRKVAKDL           0   \n",
       "3                       AVCNLARCQLSCASLGLLGKCIGDKCECVKH           0   \n",
       "4                                   GKPRPYSPRPTSHPRPIRV           0   \n",
       "...                                                 ...         ...   \n",
       "15530      DKLIGSCVWGAVNYTSNCNAECKRRGYKGGHCGSFANINCWCET           1   \n",
       "15531                                               AFP           0   \n",
       "15532                       HSDGTFTSELSRLQDSARLQRLLQGLV           0   \n",
       "15533                                      ILPFKFPFPFRR           0   \n",
       "15534                                         CSTRAENQC           0   \n",
       "\n",
       "       cell_cell_communication  anticancer  drug_delivery_vehicle  \\\n",
       "0                            0           0                      0   \n",
       "1                            1           0                      0   \n",
       "2                            0           1                      0   \n",
       "3                            0           0                      0   \n",
       "4                            0           0                      1   \n",
       "...                        ...         ...                    ...   \n",
       "15530                        0           0                      0   \n",
       "15531                        0           0                      0   \n",
       "15532                        1           0                      0   \n",
       "15533                        0           0                      0   \n",
       "15534                        0           0                      0   \n",
       "\n",
       "       antimicrobial  antiviral  antihypertensive  antibacterial  \\\n",
       "0                  1          0                 0              0   \n",
       "1                  0          0                 0              0   \n",
       "2                  0          0                 0              0   \n",
       "3                  0          0                 0              0   \n",
       "4                  1          1                 0              1   \n",
       "...              ...        ...               ...            ...   \n",
       "15530              1          0                 0              0   \n",
       "15531              0          0                 1              0   \n",
       "15532              0          0                 0              0   \n",
       "15533              1          0                 0              0   \n",
       "15534              1          1                 0              0   \n",
       "\n",
       "       antiparasitic  toxic  \n",
       "0                  0      1  \n",
       "1                  0      0  \n",
       "2                  0      0  \n",
       "3                  0      1  \n",
       "4                  0      1  \n",
       "...              ...    ...  \n",
       "15530              0      0  \n",
       "15531              0      0  \n",
       "15532              0      0  \n",
       "15533              0      1  \n",
       "15534              0      0  \n",
       "\n",
       "[15535 rows x 12 columns]"
      ]
     },
     "execution_count": 44,
     "metadata": {},
     "output_type": "execute_result"
    }
   ],
   "source": [
    "from skfp.datasets.lrgb import load_lrgb_mol_benchmark, load_lrgb_mol_splits\n",
    "\n",
    "_, df = next(load_lrgb_mol_benchmark(as_frames=True))\n",
    "df"
   ]
  },
  {
   "cell_type": "code",
   "execution_count": 45,
   "metadata": {},
   "outputs": [
    {
     "data": {
      "text/plain": [
       "['antifungal',\n",
       " 'cell_cell_communication',\n",
       " 'anticancer',\n",
       " 'drug_delivery_vehicle',\n",
       " 'antimicrobial',\n",
       " 'antiviral',\n",
       " 'antihypertensive',\n",
       " 'antibacterial',\n",
       " 'antiparasitic',\n",
       " 'toxic']"
      ]
     },
     "execution_count": 45,
     "metadata": {},
     "output_type": "execute_result"
    }
   ],
   "source": [
    "label_names = df.columns[2:].tolist()\n",
    "label_names"
   ]
  },
  {
   "cell_type": "code",
   "execution_count": 46,
   "metadata": {},
   "outputs": [
    {
     "data": {
      "text/plain": [
       "('VKLkVyPLKVKLyP', [0, 0, 0, 0, 1, 0, 0, 0, 0, 1])"
      ]
     },
     "execution_count": 46,
     "metadata": {},
     "output_type": "execute_result"
    }
   ],
   "source": [
    "sequences = df['aminoseq'].tolist()\n",
    "labels = df.iloc[:, 2:].values\n",
    "sequences[0], labels[0].tolist()"
   ]
  },
  {
   "cell_type": "code",
   "execution_count": 47,
   "metadata": {},
   "outputs": [
    {
     "data": {
      "image/png": "[encoded data removed]",
      "text/plain": [
       "<Figure size 640x480 with 1 Axes>"
      ]
     },
     "metadata": {},
     "output_type": "display_data"
    }
   ],
   "source": [
    "import matplotlib.pyplot as plt\n",
    "plt.bar(label_names, labels.sum(axis=0))\n",
    "plt.xticks(rotation=45, ha='right')\n",
    "plt.show()"
   ]
  },
  {
   "cell_type": "code",
   "execution_count": 48,
   "metadata": {},
   "outputs": [
    {
     "data": {
      "text/plain": [
       "dict_keys(['train', 'valid', 'test'])"
      ]
     },
     "execution_count": 48,
     "metadata": {},
     "output_type": "execute_result"
    }
   ],
   "source": [
    "splits = load_lrgb_mol_splits(dataset_name='Peptides-func', as_dict=True)\n",
    "splits.keys()"
   ]
  },
  {
   "cell_type": "code",
   "execution_count": 49,
   "metadata": {},
   "outputs": [
    {
     "name": "stdout",
     "output_type": "stream",
     "text": [
      "Size of test set: 0.17653741290518024\n"
     ]
    }
   ],
   "source": [
    "train_sequences = []\n",
    "test_sequences = []\n",
    "y_train = []\n",
    "y_test = []\n",
    "for i in splits['train']:\n",
    "    train_sequences.append(sequences[i])\n",
    "    y_train.append(labels[i])\n",
    "for i in splits['test']:\n",
    "    test_sequences.append(sequences[i])\n",
    "    y_test.append(labels[i])\n",
    "\n",
    "print(\"Size of test set:\", len(test_sequences) / (len(test_sequences) + len(train_sequences)))"
   ]
  },
  {
   "cell_type": "code",
   "execution_count": 50,
   "metadata": {},
   "outputs": [
    {
     "name": "stdout",
     "output_type": "stream",
     "text": [
      "Max length of sequences: 50\n"
     ]
    },
    {
     "data": {
      "image/png": "[encoded data removed]",
      "text/plain": [
       "<Figure size 640x480 with 1 Axes>"
      ]
     },
     "metadata": {},
     "output_type": "display_data"
    }
   ],
   "source": [
    "max_len = max(len(s) for s in train_sequences)\n",
    "print(\"Max length of sequences:\", max_len)\n",
    "plt.hist([len(s) for s in train_sequences], bins=range(0, max_len + 1, 1))\n",
    "plt.show()"
   ]
  },
  {
   "cell_type": "markdown",
   "metadata": {},
   "source": [
    "## Tokenize"
   ]
  },
  {
   "cell_type": "code",
   "execution_count": 51,
   "metadata": {},
   "outputs": [
    {
     "data": {
      "text/plain": [
       "['<pad>',\n",
       " '<bos>',\n",
       " '<eos>',\n",
       " '<mask>',\n",
       " ' ',\n",
       " \"'\",\n",
       " '(',\n",
       " ')',\n",
       " '*',\n",
       " '-',\n",
       " '1',\n",
       " '2',\n",
       " '3',\n",
       " 'A',\n",
       " 'C',\n",
       " 'D',\n",
       " 'E',\n",
       " 'F',\n",
       " 'G',\n",
       " 'H',\n",
       " 'I',\n",
       " 'K',\n",
       " 'L',\n",
       " 'M',\n",
       " 'N',\n",
       " 'O',\n",
       " 'P',\n",
       " 'Q',\n",
       " 'R',\n",
       " 'S',\n",
       " 'T',\n",
       " 'V',\n",
       " 'W',\n",
       " 'X',\n",
       " 'Y',\n",
       " 'Z',\n",
       " 'a',\n",
       " 'b',\n",
       " 'c',\n",
       " 'd',\n",
       " 'e',\n",
       " 'f',\n",
       " 'g',\n",
       " 'h',\n",
       " 'i',\n",
       " 'k',\n",
       " 'l',\n",
       " 'm',\n",
       " 'n',\n",
       " 'o',\n",
       " 'p',\n",
       " 'q',\n",
       " 'r',\n",
       " 's',\n",
       " 't',\n",
       " 'u',\n",
       " 'v',\n",
       " 'w',\n",
       " 'y',\n",
       " 'z']"
      ]
     },
     "execution_count": 51,
     "metadata": {},
     "output_type": "execute_result"
    }
   ],
   "source": [
    "vocab = list(set(''.join(sequences)))\n",
    "vocab.sort()\n",
    "vocab.insert(0, '<mask>')\n",
    "vocab.insert(0, '<eos>')\n",
    "vocab.insert(0, '<bos>')\n",
    "vocab.insert(0, '<pad>')\n",
    "vocab"
   ]
  },
  {
   "cell_type": "code",
   "execution_count": 52,
   "metadata": {},
   "outputs": [
    {
     "data": {
      "text/plain": [
       "array([ 1, 15, 31, 13, 19, 18, 20, 22, 24, 16, 13, 34, 28, 21, 31, 22, 15,\n",
       "       27, 22, 29, 13, 18, 21, 19, 22, 27, 29, 22, 31, 13, 28, 18, 31, 18,\n",
       "       18, 29, 22, 18, 18, 18, 13, 18, 15, 15, 13, 16, 26, 22, 29,  2,  0,\n",
       "        0])"
      ]
     },
     "execution_count": 52,
     "metadata": {},
     "output_type": "execute_result"
    }
   ],
   "source": [
    "import numpy as np\n",
    "\n",
    "token2id = {token: i for i, token in enumerate(vocab)}\n",
    "id2token = {i: token for token, i in token2id.items()}\n",
    "\n",
    "def tokenize(sequence, max_len):\n",
    "    return [token2id['<bos>']] + [token2id[token] for token in sequence[:max_len]] + [token2id['<eos>']] + [token2id['<pad>']] * max(0, max_len - len(sequence))\n",
    "\n",
    "X_train = np.array([tokenize(sequence, 50) for sequence in train_sequences])\n",
    "X_test = np.array([tokenize(sequence, 50) for sequence in test_sequences])\n",
    "\n",
    "y_train = np.array(y_train)\n",
    "y_test = np.array(y_test)\n",
    "\n",
    "X_train[0]"
   ]
  },
  {
   "cell_type": "markdown",
   "metadata": {},
   "source": [
    "## Train"
   ]
  },
  {
   "cell_type": "code",
   "execution_count": 54,
   "metadata": {},
   "outputs": [
    {
     "data": {
      "text/plain": [
       "tensor([[0.5663, 0.4861, 0.4378, 0.5387, 0.4823, 0.5645, 0.5559, 0.4751, 0.4542,\n",
       "         0.5975]], device='cuda:0', grad_fn=<SigmoidBackward0>)"
      ]
     },
     "execution_count": 54,
     "metadata": {},
     "output_type": "execute_result"
    }
   ],
   "source": [
    "import torch\n",
    "import torch.nn as nn\n",
    "import torch.nn.functional as F\n",
    "\n",
    "CONFIG_ENABLE_BIAS = False\n",
    "CONFIG_POOLING = 'avg'\n",
    "\n",
    "class Block(nn.Module):\n",
    "    def __init__(self, in_channels, out_channels, kernel_size, dilation_rate):\n",
    "        super().__init__()\n",
    "        self.conv1 = nn.Conv1d(\n",
    "            in_channels,\n",
    "            out_channels,\n",
    "            kernel_size,\n",
    "            dilation=dilation_rate,\n",
    "            padding='same',\n",
    "            bias=CONFIG_ENABLE_BIAS,\n",
    "        )\n",
    "        self.conv2 = nn.Conv1d(\n",
    "            out_channels,\n",
    "            out_channels,\n",
    "            kernel_size,\n",
    "            dilation=dilation_rate,\n",
    "            padding='same',\n",
    "            bias=CONFIG_ENABLE_BIAS,\n",
    "        )\n",
    "        self.bn1 = nn.BatchNorm1d(out_channels)\n",
    "        self.bn2 = nn.BatchNorm1d(out_channels)\n",
    "        self.act = nn.ReLU()\n",
    "\n",
    "    def forward(self, x):\n",
    "        shortcut = x\n",
    "        x = self.bn1(x)\n",
    "        x = self.act(x)\n",
    "        x = self.conv1(x)\n",
    "        x = self.bn2(x)\n",
    "        x = self.act(x)\n",
    "        x = self.conv2(x)\n",
    "        return x + shortcut\n",
    "\n",
    "class Model(nn.Module):\n",
    "    def __init__(self, *, vocab_size, num_classes, dim=512, kernel_size=3, num_layers=4):\n",
    "        super().__init__()\n",
    "        self.embedding = nn.Embedding(vocab_size, dim, padding_idx=token2id['<pad>'])\n",
    "        self.blocks = nn.ModuleList([\n",
    "            Block(dim, dim, kernel_size, 2 ** i)\n",
    "            for i in range(num_layers)\n",
    "        ])\n",
    "        self.bn = nn.BatchNorm1d(dim)\n",
    "        self.act = nn.ReLU()\n",
    "        if CONFIG_POOLING == 'avg':\n",
    "            self.pool = nn.AdaptiveAvgPool1d(1)\n",
    "        elif CONFIG_POOLING == 'max':\n",
    "            self.pool = nn.AdaptiveMaxPool1d(1)\n",
    "        else:\n",
    "            raise ValueError(f\"Invalid pooling type: {CONFIG_POOLING}\")\n",
    "        self.fc = nn.Linear(dim, num_classes)\n",
    "\n",
    "    def forward(self, x):\n",
    "        x = self.embedding(x).transpose(-1, -2)\n",
    "        for block in self.blocks:\n",
    "            x = block(x)\n",
    "        x = self.bn(x)\n",
    "        x = self.act(x)\n",
    "        x = self.pool(x).squeeze(-1)\n",
    "        return F.sigmoid(self.fc(x))\n",
    "\n",
    "model = Model(\n",
    "    vocab_size=len(vocab),\n",
    "    num_classes=10,\n",
    "    dim=32,\n",
    "    num_layers=2,\n",
    ").cuda()\n",
    "\n",
    "model(torch.tensor(X_train[:1]).cuda())"
   ]
  },
  {
   "cell_type": "code",
   "execution_count": 55,
   "metadata": {},
   "outputs": [
    {
     "data": {
      "text/plain": [
       "((10873, 52), (10873, 10))"
      ]
     },
     "execution_count": 55,
     "metadata": {},
     "output_type": "execute_result"
    }
   ],
   "source": [
    "X_train.shape, y_train.shape"
   ]
  },
  {
   "cell_type": "code",
   "execution_count": 56,
   "metadata": {},
   "outputs": [],
   "source": [
    "import torch.optim as optim\n",
    "import random\n",
    "from torch.utils.data import DataLoader, TensorDataset\n",
    "from tqdm import tqdm\n",
    "from skfp.metrics import multioutput_auprc_score\n",
    "import wandb\n",
    "\n",
    "CONFIG_BATCH_SIZE = 1024\n",
    "CONFIG_EPOCHS = 500\n",
    "CONFIG_OPTIMIZER = 'SGD'\n",
    "CONFIG_LR = 0.9\n",
    "CONFIG_MOMENTUM = 0.9\n",
    "CONFIG_LR_STEP_SIZE = 100\n",
    "CONFIG_LR_GAMMA = 0.1\n",
    "CONFIG_MODEL_DIM = 256\n",
    "CONFIG_MODEL_NUM_LAYERS = 5\n",
    "CONFIG_AUG_MASK_PROB = 0.15\n",
    "CONFIG_AUG_REPLACE_PROB = 0.15\n",
    "\n",
    "model = Model(\n",
    "    vocab_size=len(vocab),\n",
    "    num_classes=10,\n",
    "    dim=CONFIG_MODEL_DIM,\n",
    "    num_layers=CONFIG_MODEL_NUM_LAYERS,\n",
    ").cuda()\n",
    "\n",
    "optimizer = optim.SGD(model.parameters(), lr=CONFIG_LR, momentum=CONFIG_MOMENTUM)\n",
    "schedule = optim.lr_scheduler.StepLR(optimizer, step_size=CONFIG_LR_STEP_SIZE, gamma=CONFIG_LR_GAMMA)\n",
    "criterion = nn.BCELoss()\n",
    "\n",
    "def augumented_collator(examples):\n",
    "    x, y = zip(*examples)\n",
    "    x = torch.stack(x)\n",
    "    y = torch.stack(y)\n",
    "\n",
    "    mask_prob = CONFIG_AUG_MASK_PROB\n",
    "    mask_token = token2id['<mask>']\n",
    "\n",
    "    # Randomly mask tokens\n",
    "    mask = torch.rand(x.shape).lt(mask_prob)\n",
    "    mask[x == token2id['<bos>']] = False\n",
    "    mask[x == token2id['<eos>']] = False\n",
    "    mask[x == token2id['<pad>']] = False\n",
    "    x[mask] = mask_token\n",
    "\n",
    "    random_token_prob = CONFIG_AUG_REPLACE_PROB\n",
    "    random_tokens = torch.randint(token2id['A'], token2id['Z'], x.shape, dtype=torch.long)\n",
    "\n",
    "    # Randomly replace tokens with random tokens\n",
    "    random_mask = torch.rand(x.shape).lt(random_token_prob)\n",
    "    random_mask[x == token2id['<bos>']] = False\n",
    "    random_mask[x == token2id['<eos>']] = False\n",
    "    random_mask[x == token2id['<pad>']] = False\n",
    "    random_mask[x == mask_token] = False\n",
    "    x[random_mask] = random_tokens[random_mask]\n",
    "\n",
    "    return x, y\n",
    "\n",
    "train_loader = DataLoader(\n",
    "    TensorDataset(torch.tensor(X_train), torch.tensor(y_train)),\n",
    "    batch_size=CONFIG_BATCH_SIZE,\n",
    "    shuffle=True,\n",
    "    collate_fn=augumented_collator,\n",
    ")\n",
    "\n",
    "test_loader = DataLoader(\n",
    "    TensorDataset(torch.tensor(X_test), torch.tensor(y_test)),\n",
    "    batch_size=CONFIG_BATCH_SIZE,\n",
    "    shuffle=False,\n",
    ")"
   ]
  },
  {
   "cell_type": "code",
   "execution_count": 57,
   "metadata": {},
   "outputs": [
    {
     "data": {
      "text/plain": [
       "(tensor([[ 1, 25, 29,  ...,  0,  0,  0],\n",
       "         [ 1, 24, 34,  ...,  0,  0,  0],\n",
       "         [ 1, 17,  3,  ...,  0,  0,  0],\n",
       "         ...,\n",
       "         [ 1, 16,  3,  ...,  0,  0,  0],\n",
       "         [ 1, 21, 29,  ...,  0,  0,  0],\n",
       "         [ 1, 27, 27,  ...,  0,  0,  0]]),\n",
       " tensor([[0, 0, 0,  ..., 1, 0, 0],\n",
       "         [0, 0, 1,  ..., 1, 0, 1],\n",
       "         [0, 0, 0,  ..., 0, 0, 0],\n",
       "         ...,\n",
       "         [0, 0, 0,  ..., 0, 0, 0],\n",
       "         [0, 0, 0,  ..., 1, 0, 0],\n",
       "         [0, 0, 0,  ..., 0, 0, 0]]))"
      ]
     },
     "execution_count": 57,
     "metadata": {},
     "output_type": "execute_result"
    }
   ],
   "source": [
    "next(iter(train_loader))"
   ]
  },
  {
   "cell_type": "code",
   "execution_count": 58,
   "metadata": {},
   "outputs": [
    {
     "data": {
      "text/html": [
       "Finishing last run (ID:4289biym) before initializing another..."
      ],
      "text/plain": [
       "<IPython.core.display.HTML object>"
      ]
     },
     "metadata": {},
     "output_type": "display_data"
    },
    {
     "data": {
      "application/vnd.jupyter.widget-view+json": {
       "model_id": "a781572e935e4fa4827f3f0dcb3e157c",
       "version_major": 2,
       "version_minor": 0
      },
      "text/plain": [
       "VBox(children=(Label(value='0.278 MB of 0.278 MB uploaded\\r'), FloatProgress(value=1.0, max=1.0)))"
      ]
     },
     "metadata": {},
     "output_type": "display_data"
    },
    {
     "data": {
      "text/html": [
       "<style>\n",
       "    table.wandb td:nth-child(1) { padding: 0 10px; text-align: left ; width: auto;} td:nth-child(2) {text-align: left ; width: 100%}\n",
       "    .wandb-row { display: flex; flex-direction: row; flex-wrap: wrap; justify-content: flex-start; width: 100% }\n",
       "    .wandb-col { display: flex; flex-direction: column; flex-basis: 100%; flex: 1; padding: 10px; }\n",
       "    </style>\n",
       "<div class=\"wandb-row\"><div class=\"wandb-col\"><h3>Run history:</h3><br/><table class=\"wandb\"><tr><td>eval/auprc</td><td>▁▃▃▄▄▅▅▅▆▆▇▇▇▇▇██▇██████████████████████</td></tr><tr><td>train/epoch</td><td>▁▁▁▁▂▂▂▂▂▂▃▃▃▃▄▄▄▄▄▄▅▅▅▅▅▆▆▆▆▆▇▇▇▇▇▇▇███</td></tr><tr><td>train/learning_rate</td><td>▁▁▁▁▁▁▁▁▁▁▁▁▁▁▁▁▁▁▁▁▁▁▁▁▁▁▁▁▁▁▁▁▁▁▁▁▁▁▁▁</td></tr><tr><td>train/loss</td><td>█▅▄▄▃▃▃▃▂▂▂▂▂▂▂▂▂▂▂▂▂▂▁▂▁▂▂▁▂▁▁▁▁▁▁▁▁▁▁▁</td></tr><tr><td>train/step</td><td>▁▁▁▁▁▁▂▂▂▂▂▂▂▂▃▃▃▃▃▃▄▄▄▅▅▆▆▆▆▆▆▆▆▆▇▇▇▇██</td></tr></table><br/></div><div class=\"wandb-col\"><h3>Run summary:</h3><br/><table class=\"wandb\"><tr><td>eval/auprc</td><td>0.73611</td></tr><tr><td>train/epoch</td><td>147</td></tr><tr><td>train/learning_rate</td><td>0.9</td></tr><tr><td>train/loss</td><td>0.06393</td></tr><tr><td>train/step</td><td>1611</td></tr></table><br/></div></div>"
      ],
      "text/plain": [
       "<IPython.core.display.HTML object>"
      ]
     },
     "metadata": {},
     "output_type": "display_data"
    },
    {
     "data": {
      "text/html": [
       " View run <strong style=\"color:#cdcd00\">bright-moon-17</strong> at: <a href='https://wandb.ai/carbon225/peptides/runs/4289biym' target=\"_blank\">https://wandb.ai/carbon225/peptides/runs/4289biym</a><br/> View project at: <a href='https://wandb.ai/carbon225/peptides' target=\"_blank\">https://wandb.ai/carbon225/peptides</a><br/>Synced 5 W&B file(s), 0 media file(s), 6 artifact file(s) and 0 other file(s)"
      ],
      "text/plain": [
       "<IPython.core.display.HTML object>"
      ]
     },
     "metadata": {},
     "output_type": "display_data"
    },
    {
     "data": {
      "text/html": [
       "Find logs at: <code>./wandb/run-20241101_132320-4289biym/logs</code>"
      ],
      "text/plain": [
       "<IPython.core.display.HTML object>"
      ]
     },
     "metadata": {},
     "output_type": "display_data"
    },
    {
     "data": {
      "text/html": [
       "Successfully finished last run (ID:4289biym). Initializing new run:<br/>"
      ],
      "text/plain": [
       "<IPython.core.display.HTML object>"
      ]
     },
     "metadata": {},
     "output_type": "display_data"
    },
    {
     "data": {
      "text/html": [
       "Tracking run with wandb version 0.18.5"
      ],
      "text/plain": [
       "<IPython.core.display.HTML object>"
      ]
     },
     "metadata": {},
     "output_type": "display_data"
    },
    {
     "data": {
      "text/html": [
       "Run data is saved locally in <code>/home/carbon/projects/peptides/peptides/wandb/run-20241101_133120-9ouc7eir</code>"
      ],
      "text/plain": [
       "<IPython.core.display.HTML object>"
      ]
     },
     "metadata": {},
     "output_type": "display_data"
    },
    {
     "data": {
      "text/html": [
       "Syncing run <strong><a href='https://wandb.ai/carbon225/peptides/runs/9ouc7eir' target=\"_blank\">cheerful-parachute-18</a></strong> to <a href='https://wandb.ai/carbon225/peptides' target=\"_blank\">Weights & Biases</a> (<a href='https://wandb.me/run' target=\"_blank\">docs</a>)<br/>"
      ],
      "text/plain": [
       "<IPython.core.display.HTML object>"
      ]
     },
     "metadata": {},
     "output_type": "display_data"
    },
    {
     "data": {
      "text/html": [
       " View project at <a href='https://wandb.ai/carbon225/peptides' target=\"_blank\">https://wandb.ai/carbon225/peptides</a>"
      ],
      "text/plain": [
       "<IPython.core.display.HTML object>"
      ]
     },
     "metadata": {},
     "output_type": "display_data"
    },
    {
     "data": {
      "text/html": [
       " View run at <a href='https://wandb.ai/carbon225/peptides/runs/9ouc7eir' target=\"_blank\">https://wandb.ai/carbon225/peptides/runs/9ouc7eir</a>"
      ],
      "text/plain": [
       "<IPython.core.display.HTML object>"
      ]
     },
     "metadata": {},
     "output_type": "display_data"
    },
    {
     "name": "stderr",
     "output_type": "stream",
     "text": [
      "Epoch 1/500: 100%|██████████| 11/11 [00:03<00:00,  3.52it/s, loss=0.4495]\n"
     ]
    },
    {
     "name": "stdout",
     "output_type": "stream",
     "text": [
      "  auprc: 0.3169\n"
     ]
    },
    {
     "name": "stderr",
     "output_type": "stream",
     "text": [
      "Epoch 2/500: 100%|██████████| 11/11 [00:03<00:00,  3.41it/s, loss=0.3478]\n"
     ]
    },
    {
     "name": "stdout",
     "output_type": "stream",
     "text": [
      "  auprc: 0.3705\n"
     ]
    },
    {
     "name": "stderr",
     "output_type": "stream",
     "text": [
      "Epoch 3/500: 100%|██████████| 11/11 [00:03<00:00,  3.41it/s, loss=0.3047]\n"
     ]
    },
    {
     "name": "stdout",
     "output_type": "stream",
     "text": [
      "  auprc: 0.3909\n"
     ]
    },
    {
     "name": "stderr",
     "output_type": "stream",
     "text": [
      "Epoch 4/500: 100%|██████████| 11/11 [00:03<00:00,  3.43it/s, loss=0.2843]\n"
     ]
    },
    {
     "name": "stdout",
     "output_type": "stream",
     "text": [
      "  auprc: 0.4205\n"
     ]
    },
    {
     "name": "stderr",
     "output_type": "stream",
     "text": [
      "Epoch 5/500: 100%|██████████| 11/11 [00:03<00:00,  3.40it/s, loss=0.2737]\n"
     ]
    },
    {
     "name": "stdout",
     "output_type": "stream",
     "text": [
      "  auprc: 0.4442\n"
     ]
    },
    {
     "name": "stderr",
     "output_type": "stream",
     "text": [
      "Epoch 6/500: 100%|██████████| 11/11 [00:03<00:00,  3.41it/s, loss=0.2625]\n"
     ]
    },
    {
     "name": "stdout",
     "output_type": "stream",
     "text": [
      "  auprc: 0.4451\n"
     ]
    },
    {
     "name": "stderr",
     "output_type": "stream",
     "text": [
      "Epoch 7/500: 100%|██████████| 11/11 [00:03<00:00,  3.59it/s, loss=0.2567]\n"
     ]
    },
    {
     "name": "stdout",
     "output_type": "stream",
     "text": [
      "  auprc: 0.4845\n"
     ]
    },
    {
     "name": "stderr",
     "output_type": "stream",
     "text": [
      "Epoch 8/500: 100%|██████████| 11/11 [00:03<00:00,  3.59it/s, loss=0.2493]\n"
     ]
    },
    {
     "name": "stdout",
     "output_type": "stream",
     "text": [
      "  auprc: 0.4911\n"
     ]
    },
    {
     "name": "stderr",
     "output_type": "stream",
     "text": [
      "Epoch 9/500: 100%|██████████| 11/11 [00:03<00:00,  3.47it/s, loss=0.2434]\n"
     ]
    },
    {
     "name": "stdout",
     "output_type": "stream",
     "text": [
      "  auprc: 0.5065\n"
     ]
    },
    {
     "name": "stderr",
     "output_type": "stream",
     "text": [
      "Epoch 10/500: 100%|██████████| 11/11 [00:03<00:00,  3.59it/s, loss=0.2375]\n"
     ]
    },
    {
     "name": "stdout",
     "output_type": "stream",
     "text": [
      "  auprc: 0.5066\n"
     ]
    },
    {
     "name": "stderr",
     "output_type": "stream",
     "text": [
      "Epoch 11/500: 100%|██████████| 11/11 [00:03<00:00,  3.51it/s, loss=0.2352]\n"
     ]
    },
    {
     "name": "stdout",
     "output_type": "stream",
     "text": [
      "  auprc: 0.5164\n"
     ]
    },
    {
     "name": "stderr",
     "output_type": "stream",
     "text": [
      "Epoch 12/500: 100%|██████████| 11/11 [00:03<00:00,  3.50it/s, loss=0.2300]\n"
     ]
    },
    {
     "name": "stdout",
     "output_type": "stream",
     "text": [
      "  auprc: 0.5481\n"
     ]
    },
    {
     "name": "stderr",
     "output_type": "stream",
     "text": [
      "Epoch 13/500: 100%|██████████| 11/11 [00:03<00:00,  3.54it/s, loss=0.2244]\n"
     ]
    },
    {
     "name": "stdout",
     "output_type": "stream",
     "text": [
      "  auprc: 0.5378\n"
     ]
    },
    {
     "name": "stderr",
     "output_type": "stream",
     "text": [
      "Epoch 14/500: 100%|██████████| 11/11 [00:03<00:00,  3.53it/s, loss=0.2211]\n"
     ]
    },
    {
     "name": "stdout",
     "output_type": "stream",
     "text": [
      "  auprc: 0.5608\n"
     ]
    },
    {
     "name": "stderr",
     "output_type": "stream",
     "text": [
      "Epoch 15/500: 100%|██████████| 11/11 [00:03<00:00,  3.50it/s, loss=0.2181]\n"
     ]
    },
    {
     "name": "stdout",
     "output_type": "stream",
     "text": [
      "  auprc: 0.5571\n"
     ]
    },
    {
     "name": "stderr",
     "output_type": "stream",
     "text": [
      "Epoch 16/500: 100%|██████████| 11/11 [00:03<00:00,  3.52it/s, loss=0.2135]\n"
     ]
    },
    {
     "name": "stdout",
     "output_type": "stream",
     "text": [
      "  auprc: 0.5528\n"
     ]
    },
    {
     "name": "stderr",
     "output_type": "stream",
     "text": [
      "Epoch 17/500: 100%|██████████| 11/11 [00:03<00:00,  3.56it/s, loss=0.2106]\n"
     ]
    },
    {
     "name": "stdout",
     "output_type": "stream",
     "text": [
      "  auprc: 0.5706\n"
     ]
    },
    {
     "name": "stderr",
     "output_type": "stream",
     "text": [
      "Epoch 18/500: 100%|██████████| 11/11 [00:03<00:00,  3.58it/s, loss=0.2064]\n"
     ]
    },
    {
     "name": "stdout",
     "output_type": "stream",
     "text": [
      "  auprc: 0.5758\n"
     ]
    },
    {
     "name": "stderr",
     "output_type": "stream",
     "text": [
      "Epoch 19/500: 100%|██████████| 11/11 [00:03<00:00,  3.46it/s, loss=0.2023]\n"
     ]
    },
    {
     "name": "stdout",
     "output_type": "stream",
     "text": [
      "  auprc: 0.5935\n"
     ]
    },
    {
     "name": "stderr",
     "output_type": "stream",
     "text": [
      "Epoch 20/500: 100%|██████████| 11/11 [00:03<00:00,  3.39it/s, loss=0.1981]\n"
     ]
    },
    {
     "name": "stdout",
     "output_type": "stream",
     "text": [
      "  auprc: 0.5801\n"
     ]
    },
    {
     "name": "stderr",
     "output_type": "stream",
     "text": [
      "Epoch 21/500: 100%|██████████| 11/11 [00:03<00:00,  3.59it/s, loss=0.1986]\n"
     ]
    },
    {
     "name": "stdout",
     "output_type": "stream",
     "text": [
      "  auprc: 0.6104\n"
     ]
    },
    {
     "name": "stderr",
     "output_type": "stream",
     "text": [
      "Epoch 22/500: 100%|██████████| 11/11 [00:03<00:00,  3.62it/s, loss=0.1945]\n"
     ]
    },
    {
     "name": "stdout",
     "output_type": "stream",
     "text": [
      "  auprc: 0.5999\n"
     ]
    },
    {
     "name": "stderr",
     "output_type": "stream",
     "text": [
      "Epoch 23/500: 100%|██████████| 11/11 [00:03<00:00,  3.56it/s, loss=0.1881]\n"
     ]
    },
    {
     "name": "stdout",
     "output_type": "stream",
     "text": [
      "  auprc: 0.6205\n"
     ]
    },
    {
     "name": "stderr",
     "output_type": "stream",
     "text": [
      "Epoch 24/500: 100%|██████████| 11/11 [00:03<00:00,  3.49it/s, loss=0.1861]\n"
     ]
    },
    {
     "name": "stdout",
     "output_type": "stream",
     "text": [
      "  auprc: 0.6282\n"
     ]
    },
    {
     "name": "stderr",
     "output_type": "stream",
     "text": [
      "Epoch 25/500: 100%|██████████| 11/11 [00:03<00:00,  3.59it/s, loss=0.1779]\n"
     ]
    },
    {
     "name": "stdout",
     "output_type": "stream",
     "text": [
      "  auprc: 0.6362\n"
     ]
    },
    {
     "name": "stderr",
     "output_type": "stream",
     "text": [
      "Epoch 26/500: 100%|██████████| 11/11 [00:03<00:00,  3.50it/s, loss=0.1777]\n"
     ]
    },
    {
     "name": "stdout",
     "output_type": "stream",
     "text": [
      "  auprc: 0.6252\n"
     ]
    },
    {
     "name": "stderr",
     "output_type": "stream",
     "text": [
      "Epoch 27/500: 100%|██████████| 11/11 [00:03<00:00,  3.63it/s, loss=0.1739]\n"
     ]
    },
    {
     "name": "stdout",
     "output_type": "stream",
     "text": [
      "  auprc: 0.6394\n"
     ]
    },
    {
     "name": "stderr",
     "output_type": "stream",
     "text": [
      "Epoch 28/500: 100%|██████████| 11/11 [00:03<00:00,  3.54it/s, loss=0.1735]\n"
     ]
    },
    {
     "name": "stdout",
     "output_type": "stream",
     "text": [
      "  auprc: 0.6503\n"
     ]
    },
    {
     "name": "stderr",
     "output_type": "stream",
     "text": [
      "Epoch 29/500: 100%|██████████| 11/11 [00:03<00:00,  3.48it/s, loss=0.1703]\n"
     ]
    },
    {
     "name": "stdout",
     "output_type": "stream",
     "text": [
      "  auprc: 0.6541\n"
     ]
    },
    {
     "name": "stderr",
     "output_type": "stream",
     "text": [
      "Epoch 30/500: 100%|██████████| 11/11 [00:03<00:00,  3.57it/s, loss=0.1687]\n"
     ]
    },
    {
     "name": "stdout",
     "output_type": "stream",
     "text": [
      "  auprc: 0.6502\n"
     ]
    },
    {
     "name": "stderr",
     "output_type": "stream",
     "text": [
      "Epoch 31/500: 100%|██████████| 11/11 [00:03<00:00,  3.40it/s, loss=0.1655]\n"
     ]
    },
    {
     "name": "stdout",
     "output_type": "stream",
     "text": [
      "  auprc: 0.6680\n"
     ]
    },
    {
     "name": "stderr",
     "output_type": "stream",
     "text": [
      "Epoch 32/500: 100%|██████████| 11/11 [00:03<00:00,  3.58it/s, loss=0.1599]\n"
     ]
    },
    {
     "name": "stdout",
     "output_type": "stream",
     "text": [
      "  auprc: 0.6695\n"
     ]
    },
    {
     "name": "stderr",
     "output_type": "stream",
     "text": [
      "Epoch 33/500: 100%|██████████| 11/11 [00:02<00:00,  3.67it/s, loss=0.1594]\n"
     ]
    },
    {
     "name": "stdout",
     "output_type": "stream",
     "text": [
      "  auprc: 0.6445\n"
     ]
    },
    {
     "name": "stderr",
     "output_type": "stream",
     "text": [
      "Epoch 34/500: 100%|██████████| 11/11 [00:03<00:00,  3.56it/s, loss=0.1580]\n"
     ]
    },
    {
     "name": "stdout",
     "output_type": "stream",
     "text": [
      "  auprc: 0.6719\n"
     ]
    },
    {
     "name": "stderr",
     "output_type": "stream",
     "text": [
      "Epoch 35/500: 100%|██████████| 11/11 [00:03<00:00,  3.64it/s, loss=0.1536]\n"
     ]
    },
    {
     "name": "stdout",
     "output_type": "stream",
     "text": [
      "  auprc: 0.6660\n"
     ]
    },
    {
     "name": "stderr",
     "output_type": "stream",
     "text": [
      "Epoch 36/500: 100%|██████████| 11/11 [00:03<00:00,  3.61it/s, loss=0.1496]\n"
     ]
    },
    {
     "name": "stdout",
     "output_type": "stream",
     "text": [
      "  auprc: 0.6532\n"
     ]
    },
    {
     "name": "stderr",
     "output_type": "stream",
     "text": [
      "Epoch 37/500: 100%|██████████| 11/11 [00:03<00:00,  3.60it/s, loss=0.1496]\n"
     ]
    },
    {
     "name": "stdout",
     "output_type": "stream",
     "text": [
      "  auprc: 0.6693\n"
     ]
    },
    {
     "name": "stderr",
     "output_type": "stream",
     "text": [
      "Epoch 38/500: 100%|██████████| 11/11 [00:03<00:00,  3.59it/s, loss=0.1486]\n"
     ]
    },
    {
     "name": "stdout",
     "output_type": "stream",
     "text": [
      "  auprc: 0.6857\n"
     ]
    },
    {
     "name": "stderr",
     "output_type": "stream",
     "text": [
      "Epoch 39/500: 100%|██████████| 11/11 [00:03<00:00,  3.58it/s, loss=0.1452]\n"
     ]
    },
    {
     "name": "stdout",
     "output_type": "stream",
     "text": [
      "  auprc: 0.6811\n"
     ]
    },
    {
     "name": "stderr",
     "output_type": "stream",
     "text": [
      "Epoch 40/500: 100%|██████████| 11/11 [00:03<00:00,  3.32it/s, loss=0.1420]\n"
     ]
    },
    {
     "name": "stdout",
     "output_type": "stream",
     "text": [
      "  auprc: 0.6865\n"
     ]
    },
    {
     "name": "stderr",
     "output_type": "stream",
     "text": [
      "Epoch 41/500: 100%|██████████| 11/11 [00:03<00:00,  3.57it/s, loss=0.1404]\n"
     ]
    },
    {
     "name": "stdout",
     "output_type": "stream",
     "text": [
      "  auprc: 0.6857\n"
     ]
    },
    {
     "name": "stderr",
     "output_type": "stream",
     "text": [
      "Epoch 42/500: 100%|██████████| 11/11 [00:03<00:00,  3.46it/s, loss=0.1388]\n"
     ]
    },
    {
     "name": "stdout",
     "output_type": "stream",
     "text": [
      "  auprc: 0.6939\n"
     ]
    },
    {
     "name": "stderr",
     "output_type": "stream",
     "text": [
      "Epoch 43/500: 100%|██████████| 11/11 [00:03<00:00,  3.53it/s, loss=0.1373]\n"
     ]
    },
    {
     "name": "stdout",
     "output_type": "stream",
     "text": [
      "  auprc: 0.6721\n"
     ]
    },
    {
     "name": "stderr",
     "output_type": "stream",
     "text": [
      "Epoch 44/500: 100%|██████████| 11/11 [00:03<00:00,  3.56it/s, loss=0.1391]\n"
     ]
    },
    {
     "name": "stdout",
     "output_type": "stream",
     "text": [
      "  auprc: 0.6863\n"
     ]
    },
    {
     "name": "stderr",
     "output_type": "stream",
     "text": [
      "Epoch 45/500: 100%|██████████| 11/11 [00:03<00:00,  3.47it/s, loss=0.1335]\n"
     ]
    },
    {
     "name": "stdout",
     "output_type": "stream",
     "text": [
      "  auprc: 0.6943\n"
     ]
    },
    {
     "name": "stderr",
     "output_type": "stream",
     "text": [
      "Epoch 46/500: 100%|██████████| 11/11 [00:03<00:00,  3.62it/s, loss=0.1335]\n"
     ]
    },
    {
     "name": "stdout",
     "output_type": "stream",
     "text": [
      "  auprc: 0.6849\n"
     ]
    },
    {
     "name": "stderr",
     "output_type": "stream",
     "text": [
      "Epoch 47/500: 100%|██████████| 11/11 [00:03<00:00,  3.66it/s, loss=0.1312]\n"
     ]
    },
    {
     "name": "stdout",
     "output_type": "stream",
     "text": [
      "  auprc: 0.6918\n"
     ]
    },
    {
     "name": "stderr",
     "output_type": "stream",
     "text": [
      "Epoch 48/500: 100%|██████████| 11/11 [00:03<00:00,  3.55it/s, loss=0.1260]\n"
     ]
    },
    {
     "name": "stdout",
     "output_type": "stream",
     "text": [
      "  auprc: 0.6946\n"
     ]
    },
    {
     "name": "stderr",
     "output_type": "stream",
     "text": [
      "Epoch 49/500: 100%|██████████| 11/11 [00:03<00:00,  3.59it/s, loss=0.1272]\n"
     ]
    },
    {
     "name": "stdout",
     "output_type": "stream",
     "text": [
      "  auprc: 0.6928\n"
     ]
    },
    {
     "name": "stderr",
     "output_type": "stream",
     "text": [
      "Epoch 50/500: 100%|██████████| 11/11 [00:03<00:00,  3.46it/s, loss=0.1262]\n"
     ]
    },
    {
     "name": "stdout",
     "output_type": "stream",
     "text": [
      "  auprc: 0.7085\n"
     ]
    },
    {
     "name": "stderr",
     "output_type": "stream",
     "text": [
      "Epoch 51/500: 100%|██████████| 11/11 [00:03<00:00,  3.64it/s, loss=0.1246]\n"
     ]
    },
    {
     "name": "stdout",
     "output_type": "stream",
     "text": [
      "  auprc: 0.7099\n"
     ]
    },
    {
     "name": "stderr",
     "output_type": "stream",
     "text": [
      "Epoch 52/500: 100%|██████████| 11/11 [00:03<00:00,  3.65it/s, loss=0.1222]\n"
     ]
    },
    {
     "name": "stdout",
     "output_type": "stream",
     "text": [
      "  auprc: 0.7107\n"
     ]
    },
    {
     "name": "stderr",
     "output_type": "stream",
     "text": [
      "Epoch 53/500: 100%|██████████| 11/11 [00:03<00:00,  3.57it/s, loss=0.1211]\n"
     ]
    },
    {
     "name": "stdout",
     "output_type": "stream",
     "text": [
      "  auprc: 0.7055\n"
     ]
    },
    {
     "name": "stderr",
     "output_type": "stream",
     "text": [
      "Epoch 54/500: 100%|██████████| 11/11 [00:03<00:00,  3.55it/s, loss=0.1217]\n"
     ]
    },
    {
     "name": "stdout",
     "output_type": "stream",
     "text": [
      "  auprc: 0.7105\n"
     ]
    },
    {
     "name": "stderr",
     "output_type": "stream",
     "text": [
      "Epoch 55/500: 100%|██████████| 11/11 [00:03<00:00,  3.53it/s, loss=0.1173]\n"
     ]
    },
    {
     "name": "stdout",
     "output_type": "stream",
     "text": [
      "  auprc: 0.7218\n"
     ]
    },
    {
     "name": "stderr",
     "output_type": "stream",
     "text": [
      "Epoch 56/500: 100%|██████████| 11/11 [00:03<00:00,  3.52it/s, loss=0.1175]\n"
     ]
    },
    {
     "name": "stdout",
     "output_type": "stream",
     "text": [
      "  auprc: 0.7180\n"
     ]
    },
    {
     "name": "stderr",
     "output_type": "stream",
     "text": [
      "Epoch 57/500: 100%|██████████| 11/11 [00:03<00:00,  3.55it/s, loss=0.1158]\n"
     ]
    },
    {
     "name": "stdout",
     "output_type": "stream",
     "text": [
      "  auprc: 0.7198\n"
     ]
    },
    {
     "name": "stderr",
     "output_type": "stream",
     "text": [
      "Epoch 58/500: 100%|██████████| 11/11 [00:03<00:00,  3.64it/s, loss=0.1137]\n"
     ]
    },
    {
     "name": "stdout",
     "output_type": "stream",
     "text": [
      "  auprc: 0.7188\n"
     ]
    },
    {
     "name": "stderr",
     "output_type": "stream",
     "text": [
      "Epoch 59/500: 100%|██████████| 11/11 [00:03<00:00,  3.66it/s, loss=0.1134]\n"
     ]
    },
    {
     "name": "stdout",
     "output_type": "stream",
     "text": [
      "  auprc: 0.7203\n"
     ]
    },
    {
     "name": "stderr",
     "output_type": "stream",
     "text": [
      "Epoch 60/500: 100%|██████████| 11/11 [00:02<00:00,  3.73it/s, loss=0.1106]\n"
     ]
    },
    {
     "name": "stdout",
     "output_type": "stream",
     "text": [
      "  auprc: 0.7261\n"
     ]
    },
    {
     "name": "stderr",
     "output_type": "stream",
     "text": [
      "Epoch 61/500: 100%|██████████| 11/11 [00:03<00:00,  3.38it/s, loss=0.1091]\n"
     ]
    },
    {
     "name": "stdout",
     "output_type": "stream",
     "text": [
      "  auprc: 0.7155\n"
     ]
    },
    {
     "name": "stderr",
     "output_type": "stream",
     "text": [
      "Epoch 62/500: 100%|██████████| 11/11 [00:03<00:00,  3.46it/s, loss=0.1097]\n"
     ]
    },
    {
     "name": "stdout",
     "output_type": "stream",
     "text": [
      "  auprc: 0.7216\n"
     ]
    },
    {
     "name": "stderr",
     "output_type": "stream",
     "text": [
      "Epoch 63/500: 100%|██████████| 11/11 [00:02<00:00,  3.69it/s, loss=0.1091]\n"
     ]
    },
    {
     "name": "stdout",
     "output_type": "stream",
     "text": [
      "  auprc: 0.7198\n"
     ]
    },
    {
     "name": "stderr",
     "output_type": "stream",
     "text": [
      "Epoch 64/500: 100%|██████████| 11/11 [00:03<00:00,  3.58it/s, loss=0.1073]\n"
     ]
    },
    {
     "name": "stdout",
     "output_type": "stream",
     "text": [
      "  auprc: 0.7109\n"
     ]
    },
    {
     "name": "stderr",
     "output_type": "stream",
     "text": [
      "Epoch 65/500: 100%|██████████| 11/11 [00:03<00:00,  3.51it/s, loss=0.1073]\n"
     ]
    },
    {
     "name": "stdout",
     "output_type": "stream",
     "text": [
      "  auprc: 0.7183\n"
     ]
    },
    {
     "name": "stderr",
     "output_type": "stream",
     "text": [
      "Epoch 66/500: 100%|██████████| 11/11 [00:03<00:00,  3.59it/s, loss=0.1046]\n"
     ]
    },
    {
     "name": "stdout",
     "output_type": "stream",
     "text": [
      "  auprc: 0.7230\n"
     ]
    },
    {
     "name": "stderr",
     "output_type": "stream",
     "text": [
      "Epoch 67/500: 100%|██████████| 11/11 [00:03<00:00,  3.65it/s, loss=0.1015]\n"
     ]
    },
    {
     "name": "stdout",
     "output_type": "stream",
     "text": [
      "  auprc: 0.7196\n"
     ]
    },
    {
     "name": "stderr",
     "output_type": "stream",
     "text": [
      "Epoch 68/500: 100%|██████████| 11/11 [00:02<00:00,  3.70it/s, loss=0.1024]\n"
     ]
    },
    {
     "name": "stdout",
     "output_type": "stream",
     "text": [
      "  auprc: 0.7242\n"
     ]
    },
    {
     "name": "stderr",
     "output_type": "stream",
     "text": [
      "Epoch 69/500: 100%|██████████| 11/11 [00:02<00:00,  3.70it/s, loss=0.1033]\n"
     ]
    },
    {
     "name": "stdout",
     "output_type": "stream",
     "text": [
      "  auprc: 0.7207\n"
     ]
    },
    {
     "name": "stderr",
     "output_type": "stream",
     "text": [
      "Epoch 70/500: 100%|██████████| 11/11 [00:02<00:00,  3.73it/s, loss=0.1035]\n"
     ]
    },
    {
     "name": "stdout",
     "output_type": "stream",
     "text": [
      "  auprc: 0.7039\n"
     ]
    },
    {
     "name": "stderr",
     "output_type": "stream",
     "text": [
      "Epoch 71/500: 100%|██████████| 11/11 [00:03<00:00,  3.65it/s, loss=0.1029]\n"
     ]
    },
    {
     "name": "stdout",
     "output_type": "stream",
     "text": [
      "  auprc: 0.7289\n"
     ]
    },
    {
     "name": "stderr",
     "output_type": "stream",
     "text": [
      "Epoch 72/500: 100%|██████████| 11/11 [00:03<00:00,  3.50it/s, loss=0.1007]\n"
     ]
    },
    {
     "name": "stdout",
     "output_type": "stream",
     "text": [
      "  auprc: 0.7204\n"
     ]
    },
    {
     "name": "stderr",
     "output_type": "stream",
     "text": [
      "Epoch 73/500: 100%|██████████| 11/11 [00:03<00:00,  3.65it/s, loss=0.0990]\n"
     ]
    },
    {
     "name": "stdout",
     "output_type": "stream",
     "text": [
      "  auprc: 0.7233\n"
     ]
    },
    {
     "name": "stderr",
     "output_type": "stream",
     "text": [
      "Epoch 74/500: 100%|██████████| 11/11 [00:03<00:00,  3.61it/s, loss=0.0973]\n"
     ]
    },
    {
     "name": "stdout",
     "output_type": "stream",
     "text": [
      "  auprc: 0.7265\n"
     ]
    },
    {
     "name": "stderr",
     "output_type": "stream",
     "text": [
      "Epoch 75/500: 100%|██████████| 11/11 [00:03<00:00,  3.64it/s, loss=0.0977]\n"
     ]
    },
    {
     "name": "stdout",
     "output_type": "stream",
     "text": [
      "  auprc: 0.7167\n"
     ]
    },
    {
     "name": "stderr",
     "output_type": "stream",
     "text": [
      "Epoch 76/500: 100%|██████████| 11/11 [00:02<00:00,  3.74it/s, loss=0.0961]\n"
     ]
    },
    {
     "name": "stdout",
     "output_type": "stream",
     "text": [
      "  auprc: 0.7209\n"
     ]
    },
    {
     "name": "stderr",
     "output_type": "stream",
     "text": [
      "Epoch 77/500: 100%|██████████| 11/11 [00:02<00:00,  3.73it/s, loss=0.0952]\n"
     ]
    },
    {
     "name": "stdout",
     "output_type": "stream",
     "text": [
      "  auprc: 0.7231\n"
     ]
    },
    {
     "name": "stderr",
     "output_type": "stream",
     "text": [
      "Epoch 78/500: 100%|██████████| 11/11 [00:02<00:00,  3.72it/s, loss=0.0944]\n"
     ]
    },
    {
     "name": "stdout",
     "output_type": "stream",
     "text": [
      "  auprc: 0.7249\n"
     ]
    },
    {
     "name": "stderr",
     "output_type": "stream",
     "text": [
      "Epoch 79/500: 100%|██████████| 11/11 [00:03<00:00,  3.56it/s, loss=0.0944]\n"
     ]
    },
    {
     "name": "stdout",
     "output_type": "stream",
     "text": [
      "  auprc: 0.7275\n"
     ]
    },
    {
     "name": "stderr",
     "output_type": "stream",
     "text": [
      "Epoch 80/500: 100%|██████████| 11/11 [00:03<00:00,  3.53it/s, loss=0.0931]\n"
     ]
    },
    {
     "name": "stdout",
     "output_type": "stream",
     "text": [
      "  auprc: 0.7348\n"
     ]
    },
    {
     "name": "stderr",
     "output_type": "stream",
     "text": [
      "Epoch 81/500: 100%|██████████| 11/11 [00:03<00:00,  3.38it/s, loss=0.0900]\n"
     ]
    },
    {
     "name": "stdout",
     "output_type": "stream",
     "text": [
      "  auprc: 0.7358\n"
     ]
    },
    {
     "name": "stderr",
     "output_type": "stream",
     "text": [
      "Epoch 82/500: 100%|██████████| 11/11 [00:03<00:00,  3.52it/s, loss=0.0902]\n"
     ]
    },
    {
     "name": "stdout",
     "output_type": "stream",
     "text": [
      "  auprc: 0.7361\n"
     ]
    },
    {
     "name": "stderr",
     "output_type": "stream",
     "text": [
      "Epoch 83/500: 100%|██████████| 11/11 [00:03<00:00,  3.60it/s, loss=0.0917]\n"
     ]
    },
    {
     "name": "stdout",
     "output_type": "stream",
     "text": [
      "  auprc: 0.7329\n"
     ]
    },
    {
     "name": "stderr",
     "output_type": "stream",
     "text": [
      "Epoch 84/500: 100%|██████████| 11/11 [00:03<00:00,  3.57it/s, loss=0.0902]\n"
     ]
    },
    {
     "name": "stdout",
     "output_type": "stream",
     "text": [
      "  auprc: 0.7326\n"
     ]
    },
    {
     "name": "stderr",
     "output_type": "stream",
     "text": [
      "Epoch 85/500: 100%|██████████| 11/11 [00:03<00:00,  3.56it/s, loss=0.0871]\n"
     ]
    },
    {
     "name": "stdout",
     "output_type": "stream",
     "text": [
      "  auprc: 0.7373\n"
     ]
    },
    {
     "name": "stderr",
     "output_type": "stream",
     "text": [
      "Epoch 86/500: 100%|██████████| 11/11 [00:03<00:00,  3.48it/s, loss=0.0884]\n"
     ]
    },
    {
     "name": "stdout",
     "output_type": "stream",
     "text": [
      "  auprc: 0.7381\n"
     ]
    },
    {
     "name": "stderr",
     "output_type": "stream",
     "text": [
      "Epoch 87/500: 100%|██████████| 11/11 [00:03<00:00,  3.57it/s, loss=0.0903]\n"
     ]
    },
    {
     "name": "stdout",
     "output_type": "stream",
     "text": [
      "  auprc: 0.7135\n"
     ]
    },
    {
     "name": "stderr",
     "output_type": "stream",
     "text": [
      "Epoch 88/500: 100%|██████████| 11/11 [00:03<00:00,  3.52it/s, loss=0.0874]\n"
     ]
    },
    {
     "name": "stdout",
     "output_type": "stream",
     "text": [
      "  auprc: 0.7320\n"
     ]
    },
    {
     "name": "stderr",
     "output_type": "stream",
     "text": [
      "Epoch 89/500: 100%|██████████| 11/11 [00:02<00:00,  3.73it/s, loss=0.0898]\n"
     ]
    },
    {
     "name": "stdout",
     "output_type": "stream",
     "text": [
      "  auprc: 0.7329\n"
     ]
    },
    {
     "name": "stderr",
     "output_type": "stream",
     "text": [
      "Epoch 90/500: 100%|██████████| 11/11 [00:03<00:00,  3.66it/s, loss=0.0862]\n"
     ]
    },
    {
     "name": "stdout",
     "output_type": "stream",
     "text": [
      "  auprc: 0.7354\n"
     ]
    },
    {
     "name": "stderr",
     "output_type": "stream",
     "text": [
      "Epoch 91/500: 100%|██████████| 11/11 [00:03<00:00,  3.46it/s, loss=0.0862]\n"
     ]
    },
    {
     "name": "stdout",
     "output_type": "stream",
     "text": [
      "  auprc: 0.7373\n"
     ]
    },
    {
     "name": "stderr",
     "output_type": "stream",
     "text": [
      "Epoch 92/500: 100%|██████████| 11/11 [00:03<00:00,  3.63it/s, loss=0.0845]\n"
     ]
    },
    {
     "name": "stdout",
     "output_type": "stream",
     "text": [
      "  auprc: 0.7303\n"
     ]
    },
    {
     "name": "stderr",
     "output_type": "stream",
     "text": [
      "Epoch 93/500: 100%|██████████| 11/11 [00:03<00:00,  3.63it/s, loss=0.0831]\n"
     ]
    },
    {
     "name": "stdout",
     "output_type": "stream",
     "text": [
      "  auprc: 0.7413\n"
     ]
    },
    {
     "name": "stderr",
     "output_type": "stream",
     "text": [
      "Epoch 94/500: 100%|██████████| 11/11 [00:03<00:00,  3.60it/s, loss=0.0829]\n"
     ]
    },
    {
     "name": "stdout",
     "output_type": "stream",
     "text": [
      "  auprc: 0.7364\n"
     ]
    },
    {
     "name": "stderr",
     "output_type": "stream",
     "text": [
      "Epoch 95/500: 100%|██████████| 11/11 [00:02<00:00,  3.73it/s, loss=0.0851]\n"
     ]
    },
    {
     "name": "stdout",
     "output_type": "stream",
     "text": [
      "  auprc: 0.7422\n"
     ]
    },
    {
     "name": "stderr",
     "output_type": "stream",
     "text": [
      "Epoch 96/500: 100%|██████████| 11/11 [00:02<00:00,  3.74it/s, loss=0.0830]\n"
     ]
    },
    {
     "name": "stdout",
     "output_type": "stream",
     "text": [
      "  auprc: 0.7435\n"
     ]
    },
    {
     "name": "stderr",
     "output_type": "stream",
     "text": [
      "Epoch 97/500: 100%|██████████| 11/11 [00:02<00:00,  3.77it/s, loss=0.0844]\n"
     ]
    },
    {
     "name": "stdout",
     "output_type": "stream",
     "text": [
      "  auprc: 0.7367\n"
     ]
    },
    {
     "name": "stderr",
     "output_type": "stream",
     "text": [
      "Epoch 98/500: 100%|██████████| 11/11 [00:02<00:00,  3.76it/s, loss=0.0830]\n"
     ]
    },
    {
     "name": "stdout",
     "output_type": "stream",
     "text": [
      "  auprc: 0.7398\n"
     ]
    },
    {
     "name": "stderr",
     "output_type": "stream",
     "text": [
      "Epoch 99/500: 100%|██████████| 11/11 [00:02<00:00,  3.73it/s, loss=0.0823]\n"
     ]
    },
    {
     "name": "stdout",
     "output_type": "stream",
     "text": [
      "  auprc: 0.7412\n"
     ]
    },
    {
     "name": "stderr",
     "output_type": "stream",
     "text": [
      "Epoch 100/500: 100%|██████████| 11/11 [00:02<00:00,  3.75it/s, loss=0.0790]\n"
     ]
    },
    {
     "name": "stdout",
     "output_type": "stream",
     "text": [
      "  auprc: 0.7381\n"
     ]
    },
    {
     "name": "stderr",
     "output_type": "stream",
     "text": [
      "Epoch 101/500: 100%|██████████| 11/11 [00:02<00:00,  3.72it/s, loss=0.0745]\n"
     ]
    },
    {
     "name": "stdout",
     "output_type": "stream",
     "text": [
      "  auprc: 0.7443\n"
     ]
    },
    {
     "name": "stderr",
     "output_type": "stream",
     "text": [
      "Epoch 102/500: 100%|██████████| 11/11 [00:03<00:00,  3.53it/s, loss=0.0722]\n"
     ]
    },
    {
     "name": "stdout",
     "output_type": "stream",
     "text": [
      "  auprc: 0.7483\n"
     ]
    },
    {
     "name": "stderr",
     "output_type": "stream",
     "text": [
      "Epoch 103/500: 100%|██████████| 11/11 [00:03<00:00,  3.57it/s, loss=0.0674]\n"
     ]
    },
    {
     "name": "stdout",
     "output_type": "stream",
     "text": [
      "  auprc: 0.7494\n"
     ]
    },
    {
     "name": "stderr",
     "output_type": "stream",
     "text": [
      "Epoch 104/500: 100%|██████████| 11/11 [00:03<00:00,  3.53it/s, loss=0.0685]\n"
     ]
    },
    {
     "name": "stdout",
     "output_type": "stream",
     "text": [
      "  auprc: 0.7500\n"
     ]
    },
    {
     "data": {
      "text/html": [
       "<style>\n",
       "    table.wandb td:nth-child(1) { padding: 0 10px; text-align: left ; width: auto;} td:nth-child(2) {text-align: left ; width: 100%}\n",
       "    .wandb-row { display: flex; flex-direction: row; flex-wrap: wrap; justify-content: flex-start; width: 100% }\n",
       "    .wandb-col { display: flex; flex-direction: column; flex-basis: 100%; flex: 1; padding: 10px; }\n",
       "    </style>\n",
       "<div class=\"wandb-row\"><div class=\"wandb-col\"><h3>Run history:</h3><br/><table class=\"wandb\"><tr><td>eval/auprc</td><td>▁▂▃▄▄▅▅▅▆▆▆▆▇▇▆▇▇▇▇█▇█▇▇██▇█████████████</td></tr><tr><td>train/epoch</td><td>▁▁▁▂▂▂▂▂▂▂▃▃▃▃▃▃▃▃▄▄▄▄▄▄▄▅▅▅▅▅▆▆▆▇▇▇▇███</td></tr><tr><td>train/learning_rate</td><td>███████████████████████████████████████▁</td></tr><tr><td>train/loss</td><td>█▇▆▅▅▄▅▄▄▄▄▄▄▃▃▃▃▃▃▃▂▂▃▂▂▂▂▂▂▂▂▂▂▁▂▂▂▁▁▁</td></tr><tr><td>train/step</td><td>▁▁▁▁▂▂▂▂▂▂▂▂▂▃▃▃▃▃▃▄▄▅▅▅▅▅▆▆▆▆▆▇▇▇▇█████</td></tr></table><br/></div><div class=\"wandb-col\"><h3>Run summary:</h3><br/><table class=\"wandb\"><tr><td>eval/auprc</td><td>0.75002</td></tr><tr><td>train/epoch</td><td>104</td></tr><tr><td>train/learning_rate</td><td>0.09</td></tr><tr><td>train/loss</td><td>0.06498</td></tr><tr><td>train/step</td><td>1144</td></tr></table><br/></div></div>"
      ],
      "text/plain": [
       "<IPython.core.display.HTML object>"
      ]
     },
     "metadata": {},
     "output_type": "display_data"
    },
    {
     "data": {
      "text/html": [
       " View run <strong style=\"color:#cdcd00\">cheerful-parachute-18</strong> at: <a href='https://wandb.ai/carbon225/peptides/runs/9ouc7eir' target=\"_blank\">https://wandb.ai/carbon225/peptides/runs/9ouc7eir</a><br/> View project at: <a href='https://wandb.ai/carbon225/peptides' target=\"_blank\">https://wandb.ai/carbon225/peptides</a><br/>Synced 5 W&B file(s), 0 media file(s), 0 artifact file(s) and 0 other file(s)"
      ],
      "text/plain": [
       "<IPython.core.display.HTML object>"
      ]
     },
     "metadata": {},
     "output_type": "display_data"
    },
    {
     "data": {
      "text/html": [
       "Find logs at: <code>./wandb/run-20241101_133120-9ouc7eir/logs</code>"
      ],
      "text/plain": [
       "<IPython.core.display.HTML object>"
      ]
     },
     "metadata": {},
     "output_type": "display_data"
    }
   ],
   "source": [
    "wandb.init(\n",
    "    project='peptides',\n",
    "    config={\n",
    "        'model_enable_bias': CONFIG_ENABLE_BIAS,\n",
    "        'model_pooling': CONFIG_POOLING,\n",
    "        'batch_size': CONFIG_BATCH_SIZE,\n",
    "        'epochs': CONFIG_EPOCHS,\n",
    "        'optimizer': CONFIG_OPTIMIZER,\n",
    "        'lr': CONFIG_LR,\n",
    "        'momentum': CONFIG_MOMENTUM,\n",
    "        'lr_step_size': CONFIG_LR_STEP_SIZE,\n",
    "        'lr_gamma': CONFIG_LR_GAMMA,\n",
    "        'model_dim': CONFIG_MODEL_DIM,\n",
    "        'model_num_layers': CONFIG_MODEL_NUM_LAYERS,\n",
    "        'aug_mask_prob': CONFIG_AUG_MASK_PROB,\n",
    "        'aug_replace_prob': CONFIG_AUG_REPLACE_PROB,\n",
    "    },\n",
    ")\n",
    "\n",
    "step_counter = 0\n",
    "\n",
    "for epoch in range(CONFIG_EPOCHS):\n",
    "    model.train()\n",
    "    total_loss = 0\n",
    "    iters = 0\n",
    "    with tqdm(total=len(train_loader), desc=f'Epoch {epoch + 1}/{CONFIG_EPOCHS}') as progress:\n",
    "        for x, y in train_loader:\n",
    "            optimizer.zero_grad()\n",
    "            y_pred = model(x.cuda())\n",
    "            loss = criterion(y_pred, y.float().cuda())\n",
    "            loss.backward()\n",
    "            optimizer.step()\n",
    "            total_loss += loss.item()\n",
    "            iters += 1\n",
    "            step_counter += 1\n",
    "            progress.update(1)\n",
    "            progress.set_postfix(loss=f'{total_loss / iters:.4f}')\n",
    "            wandb.log({\n",
    "                'train/step': step_counter,\n",
    "                'train/epoch': epoch + 1,\n",
    "                'train/loss': loss.item(),\n",
    "                'train/learning_rate': optimizer.param_groups[0]['lr'],\n",
    "            })\n",
    "    schedule.step()\n",
    "    model.eval()\n",
    "    with torch.inference_mode():\n",
    "        preds = []\n",
    "        for x, y in test_loader:\n",
    "            y_pred = model(x.cuda()).cpu().numpy()\n",
    "            preds.append(y_pred)\n",
    "        y_pred = np.concatenate(preds)\n",
    "        print(f\"  auprc: {multioutput_auprc_score(y_test, y_pred):.4f}\")\n",
    "        wandb.log({\n",
    "            'eval/auprc': multioutput_auprc_score(y_test, y_pred),\n",
    "        })\n",
    "        if multioutput_auprc_score(y_test, y_pred) > 0.75:\n",
    "            break\n",
    "\n",
    "wandb.finish()\n"
   ]
  },
  {
   "cell_type": "code",
   "execution_count": 65,
   "metadata": {},
   "outputs": [],
   "source": [
    "from safetensors.torch import save_model\n",
    "\n",
    "model_path = \"lrgb-cnn.safetensors\"\n",
    "save_model(model, model_path)"
   ]
  },
  {
   "cell_type": "code",
   "execution_count": 67,
   "metadata": {},
   "outputs": [],
   "source": [
    "model.eval()\n",
    "y_pred = []\n",
    "with torch.inference_mode():\n",
    "    for x, y in test_loader:\n",
    "        y_pred.append(model(x.cuda()).cpu().numpy())\n",
    "y_pred = np.concatenate(y_pred)\n",
    "np.savez(\"preds.npz\", y_pred=y_pred)"
   ]
  },
  {
   "cell_type": "code",
   "execution_count": 68,
   "metadata": {},
   "outputs": [
    {
     "name": "stdout",
     "output_type": "stream",
     "text": [
      "0.7500233662697199\n"
     ]
    }
   ],
   "source": [
    "from sklearn.metrics import average_precision_score\n",
    "\n",
    "print(average_precision_score(y_test, y_pred, average='macro'))"
   ]
  },
  {
   "cell_type": "code",
   "execution_count": 69,
   "metadata": {},
   "outputs": [
    {
     "name": "stdout",
     "output_type": "stream",
     "text": [
      "0.7500233662697199\n"
     ]
    }
   ],
   "source": [
    "from skfp.metrics import multioutput_auprc_score\n",
    "\n",
    "print(multioutput_auprc_score(y_test, y_pred))"
   ]
  }
 ],
 "metadata": {
  "kernelspec": {
   "display_name": "um-proj",
   "language": "python",
   "name": "python3"
  },
  "language_info": {
   "codemirror_mode": {
    "name": "ipython",
    "version": 3
   },
   "file_extension": ".py",
   "mimetype": "text/x-python",
   "name": "python",
   "nbconvert_exporter": "python",
   "pygments_lexer": "ipython3",
   "version": "3.12.7"
  }
 },
 "nbformat": 4,
 "nbformat_minor": 2
}
